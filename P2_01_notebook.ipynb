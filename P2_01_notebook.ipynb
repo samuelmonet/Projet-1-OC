{
 "cells": [
  {
   "cell_type": "code",
   "execution_count": 1,
   "metadata": {},
   "outputs": [],
   "source": [
    "import numpy as np\n",
    "import pandas as pd\n",
    "\n",
    "import matplotlib.pyplot as plt\n",
    "%matplotlib inline\n",
    "\n"
   ]
  },
  {
   "cell_type": "code",
   "execution_count": 2,
   "metadata": {},
   "outputs": [
    {
     "ename": "FileNotFoundError",
     "evalue": "[Errno 2] File EdStatsData.csv does not exist: 'EdStatsData.csv'",
     "output_type": "error",
     "traceback": [
      "\u001b[0;31m---------------------------------------------------------------------------\u001b[0m",
      "\u001b[0;31mFileNotFoundError\u001b[0m                         Traceback (most recent call last)",
      "\u001b[0;32m<ipython-input-2-8a09792726da>\u001b[0m in \u001b[0;36m<module>\u001b[0;34m\u001b[0m\n\u001b[0;32m----> 1\u001b[0;31m \u001b[0mdata\u001b[0m\u001b[0;34m=\u001b[0m\u001b[0mpd\u001b[0m\u001b[0;34m.\u001b[0m\u001b[0mread_csv\u001b[0m\u001b[0;34m(\u001b[0m\u001b[0;34m\"EdStatsData.csv\"\u001b[0m\u001b[0;34m)\u001b[0m\u001b[0;34m\u001b[0m\u001b[0;34m\u001b[0m\u001b[0m\n\u001b[0m\u001b[1;32m      2\u001b[0m \u001b[0mcountries\u001b[0m\u001b[0;34m=\u001b[0m\u001b[0mpd\u001b[0m\u001b[0;34m.\u001b[0m\u001b[0mread_csv\u001b[0m\u001b[0;34m(\u001b[0m\u001b[0;34m\"EdStatsCountry.csv\"\u001b[0m\u001b[0;34m)\u001b[0m\u001b[0;34m\u001b[0m\u001b[0;34m\u001b[0m\u001b[0m\n\u001b[1;32m      3\u001b[0m \u001b[0mindicators\u001b[0m\u001b[0;34m=\u001b[0m\u001b[0mpd\u001b[0m\u001b[0;34m.\u001b[0m\u001b[0mread_csv\u001b[0m\u001b[0;34m(\u001b[0m\u001b[0;34m\"EdStatsSeries.csv\"\u001b[0m\u001b[0;34m)\u001b[0m\u001b[0;34m\u001b[0m\u001b[0;34m\u001b[0m\u001b[0m\n\u001b[1;32m      4\u001b[0m \u001b[0minfoindicators\u001b[0m\u001b[0;34m=\u001b[0m\u001b[0mpd\u001b[0m\u001b[0;34m.\u001b[0m\u001b[0mread_csv\u001b[0m\u001b[0;34m(\u001b[0m\u001b[0;34m\"EdStatsFootNote.csv\"\u001b[0m\u001b[0;34m)\u001b[0m\u001b[0;34m\u001b[0m\u001b[0;34m\u001b[0m\u001b[0m\n\u001b[1;32m      5\u001b[0m \u001b[0mcountryseries\u001b[0m\u001b[0;34m=\u001b[0m\u001b[0mpd\u001b[0m\u001b[0;34m.\u001b[0m\u001b[0mread_csv\u001b[0m\u001b[0;34m(\u001b[0m\u001b[0;34m\"EdStatsCountry-Series.csv\"\u001b[0m\u001b[0;34m)\u001b[0m\u001b[0;34m\u001b[0m\u001b[0;34m\u001b[0m\u001b[0m\n",
      "\u001b[0;32m~/anaconda3/lib/python3.8/site-packages/pandas/io/parsers.py\u001b[0m in \u001b[0;36mparser_f\u001b[0;34m(filepath_or_buffer, sep, delimiter, header, names, index_col, usecols, squeeze, prefix, mangle_dupe_cols, dtype, engine, converters, true_values, false_values, skipinitialspace, skiprows, skipfooter, nrows, na_values, keep_default_na, na_filter, verbose, skip_blank_lines, parse_dates, infer_datetime_format, keep_date_col, date_parser, dayfirst, cache_dates, iterator, chunksize, compression, thousands, decimal, lineterminator, quotechar, quoting, doublequote, escapechar, comment, encoding, dialect, error_bad_lines, warn_bad_lines, delim_whitespace, low_memory, memory_map, float_precision)\u001b[0m\n\u001b[1;32m    674\u001b[0m         )\n\u001b[1;32m    675\u001b[0m \u001b[0;34m\u001b[0m\u001b[0m\n\u001b[0;32m--> 676\u001b[0;31m         \u001b[0;32mreturn\u001b[0m \u001b[0m_read\u001b[0m\u001b[0;34m(\u001b[0m\u001b[0mfilepath_or_buffer\u001b[0m\u001b[0;34m,\u001b[0m \u001b[0mkwds\u001b[0m\u001b[0;34m)\u001b[0m\u001b[0;34m\u001b[0m\u001b[0;34m\u001b[0m\u001b[0m\n\u001b[0m\u001b[1;32m    677\u001b[0m \u001b[0;34m\u001b[0m\u001b[0m\n\u001b[1;32m    678\u001b[0m     \u001b[0mparser_f\u001b[0m\u001b[0;34m.\u001b[0m\u001b[0m__name__\u001b[0m \u001b[0;34m=\u001b[0m \u001b[0mname\u001b[0m\u001b[0;34m\u001b[0m\u001b[0;34m\u001b[0m\u001b[0m\n",
      "\u001b[0;32m~/anaconda3/lib/python3.8/site-packages/pandas/io/parsers.py\u001b[0m in \u001b[0;36m_read\u001b[0;34m(filepath_or_buffer, kwds)\u001b[0m\n\u001b[1;32m    446\u001b[0m \u001b[0;34m\u001b[0m\u001b[0m\n\u001b[1;32m    447\u001b[0m     \u001b[0;31m# Create the parser.\u001b[0m\u001b[0;34m\u001b[0m\u001b[0;34m\u001b[0m\u001b[0;34m\u001b[0m\u001b[0m\n\u001b[0;32m--> 448\u001b[0;31m     \u001b[0mparser\u001b[0m \u001b[0;34m=\u001b[0m \u001b[0mTextFileReader\u001b[0m\u001b[0;34m(\u001b[0m\u001b[0mfp_or_buf\u001b[0m\u001b[0;34m,\u001b[0m \u001b[0;34m**\u001b[0m\u001b[0mkwds\u001b[0m\u001b[0;34m)\u001b[0m\u001b[0;34m\u001b[0m\u001b[0;34m\u001b[0m\u001b[0m\n\u001b[0m\u001b[1;32m    449\u001b[0m \u001b[0;34m\u001b[0m\u001b[0m\n\u001b[1;32m    450\u001b[0m     \u001b[0;32mif\u001b[0m \u001b[0mchunksize\u001b[0m \u001b[0;32mor\u001b[0m \u001b[0miterator\u001b[0m\u001b[0;34m:\u001b[0m\u001b[0;34m\u001b[0m\u001b[0;34m\u001b[0m\u001b[0m\n",
      "\u001b[0;32m~/anaconda3/lib/python3.8/site-packages/pandas/io/parsers.py\u001b[0m in \u001b[0;36m__init__\u001b[0;34m(self, f, engine, **kwds)\u001b[0m\n\u001b[1;32m    878\u001b[0m             \u001b[0mself\u001b[0m\u001b[0;34m.\u001b[0m\u001b[0moptions\u001b[0m\u001b[0;34m[\u001b[0m\u001b[0;34m\"has_index_names\"\u001b[0m\u001b[0;34m]\u001b[0m \u001b[0;34m=\u001b[0m \u001b[0mkwds\u001b[0m\u001b[0;34m[\u001b[0m\u001b[0;34m\"has_index_names\"\u001b[0m\u001b[0;34m]\u001b[0m\u001b[0;34m\u001b[0m\u001b[0;34m\u001b[0m\u001b[0m\n\u001b[1;32m    879\u001b[0m \u001b[0;34m\u001b[0m\u001b[0m\n\u001b[0;32m--> 880\u001b[0;31m         \u001b[0mself\u001b[0m\u001b[0;34m.\u001b[0m\u001b[0m_make_engine\u001b[0m\u001b[0;34m(\u001b[0m\u001b[0mself\u001b[0m\u001b[0;34m.\u001b[0m\u001b[0mengine\u001b[0m\u001b[0;34m)\u001b[0m\u001b[0;34m\u001b[0m\u001b[0;34m\u001b[0m\u001b[0m\n\u001b[0m\u001b[1;32m    881\u001b[0m \u001b[0;34m\u001b[0m\u001b[0m\n\u001b[1;32m    882\u001b[0m     \u001b[0;32mdef\u001b[0m \u001b[0mclose\u001b[0m\u001b[0;34m(\u001b[0m\u001b[0mself\u001b[0m\u001b[0;34m)\u001b[0m\u001b[0;34m:\u001b[0m\u001b[0;34m\u001b[0m\u001b[0;34m\u001b[0m\u001b[0m\n",
      "\u001b[0;32m~/anaconda3/lib/python3.8/site-packages/pandas/io/parsers.py\u001b[0m in \u001b[0;36m_make_engine\u001b[0;34m(self, engine)\u001b[0m\n\u001b[1;32m   1112\u001b[0m     \u001b[0;32mdef\u001b[0m \u001b[0m_make_engine\u001b[0m\u001b[0;34m(\u001b[0m\u001b[0mself\u001b[0m\u001b[0;34m,\u001b[0m \u001b[0mengine\u001b[0m\u001b[0;34m=\u001b[0m\u001b[0;34m\"c\"\u001b[0m\u001b[0;34m)\u001b[0m\u001b[0;34m:\u001b[0m\u001b[0;34m\u001b[0m\u001b[0;34m\u001b[0m\u001b[0m\n\u001b[1;32m   1113\u001b[0m         \u001b[0;32mif\u001b[0m \u001b[0mengine\u001b[0m \u001b[0;34m==\u001b[0m \u001b[0;34m\"c\"\u001b[0m\u001b[0;34m:\u001b[0m\u001b[0;34m\u001b[0m\u001b[0;34m\u001b[0m\u001b[0m\n\u001b[0;32m-> 1114\u001b[0;31m             \u001b[0mself\u001b[0m\u001b[0;34m.\u001b[0m\u001b[0m_engine\u001b[0m \u001b[0;34m=\u001b[0m \u001b[0mCParserWrapper\u001b[0m\u001b[0;34m(\u001b[0m\u001b[0mself\u001b[0m\u001b[0;34m.\u001b[0m\u001b[0mf\u001b[0m\u001b[0;34m,\u001b[0m \u001b[0;34m**\u001b[0m\u001b[0mself\u001b[0m\u001b[0;34m.\u001b[0m\u001b[0moptions\u001b[0m\u001b[0;34m)\u001b[0m\u001b[0;34m\u001b[0m\u001b[0;34m\u001b[0m\u001b[0m\n\u001b[0m\u001b[1;32m   1115\u001b[0m         \u001b[0;32melse\u001b[0m\u001b[0;34m:\u001b[0m\u001b[0;34m\u001b[0m\u001b[0;34m\u001b[0m\u001b[0m\n\u001b[1;32m   1116\u001b[0m             \u001b[0;32mif\u001b[0m \u001b[0mengine\u001b[0m \u001b[0;34m==\u001b[0m \u001b[0;34m\"python\"\u001b[0m\u001b[0;34m:\u001b[0m\u001b[0;34m\u001b[0m\u001b[0;34m\u001b[0m\u001b[0m\n",
      "\u001b[0;32m~/anaconda3/lib/python3.8/site-packages/pandas/io/parsers.py\u001b[0m in \u001b[0;36m__init__\u001b[0;34m(self, src, **kwds)\u001b[0m\n\u001b[1;32m   1889\u001b[0m         \u001b[0mkwds\u001b[0m\u001b[0;34m[\u001b[0m\u001b[0;34m\"usecols\"\u001b[0m\u001b[0;34m]\u001b[0m \u001b[0;34m=\u001b[0m \u001b[0mself\u001b[0m\u001b[0;34m.\u001b[0m\u001b[0musecols\u001b[0m\u001b[0;34m\u001b[0m\u001b[0;34m\u001b[0m\u001b[0m\n\u001b[1;32m   1890\u001b[0m \u001b[0;34m\u001b[0m\u001b[0m\n\u001b[0;32m-> 1891\u001b[0;31m         \u001b[0mself\u001b[0m\u001b[0;34m.\u001b[0m\u001b[0m_reader\u001b[0m \u001b[0;34m=\u001b[0m \u001b[0mparsers\u001b[0m\u001b[0;34m.\u001b[0m\u001b[0mTextReader\u001b[0m\u001b[0;34m(\u001b[0m\u001b[0msrc\u001b[0m\u001b[0;34m,\u001b[0m \u001b[0;34m**\u001b[0m\u001b[0mkwds\u001b[0m\u001b[0;34m)\u001b[0m\u001b[0;34m\u001b[0m\u001b[0;34m\u001b[0m\u001b[0m\n\u001b[0m\u001b[1;32m   1892\u001b[0m         \u001b[0mself\u001b[0m\u001b[0;34m.\u001b[0m\u001b[0munnamed_cols\u001b[0m \u001b[0;34m=\u001b[0m \u001b[0mself\u001b[0m\u001b[0;34m.\u001b[0m\u001b[0m_reader\u001b[0m\u001b[0;34m.\u001b[0m\u001b[0munnamed_cols\u001b[0m\u001b[0;34m\u001b[0m\u001b[0;34m\u001b[0m\u001b[0m\n\u001b[1;32m   1893\u001b[0m \u001b[0;34m\u001b[0m\u001b[0m\n",
      "\u001b[0;32mpandas/_libs/parsers.pyx\u001b[0m in \u001b[0;36mpandas._libs.parsers.TextReader.__cinit__\u001b[0;34m()\u001b[0m\n",
      "\u001b[0;32mpandas/_libs/parsers.pyx\u001b[0m in \u001b[0;36mpandas._libs.parsers.TextReader._setup_parser_source\u001b[0;34m()\u001b[0m\n",
      "\u001b[0;31mFileNotFoundError\u001b[0m: [Errno 2] File EdStatsData.csv does not exist: 'EdStatsData.csv'"
     ]
    }
   ],
   "source": [
    "data=pd.read_csv(\"EdStatsData.csv\")\n",
    "countries=pd.read_csv(\"EdStatsCountry.csv\")\n",
    "indicators=pd.read_csv(\"EdStatsSeries.csv\")\n",
    "infoindicators=pd.read_csv(\"EdStatsFootNote.csv\")\n",
    "countryseries=pd.read_csv(\"EdStatsCountry-Series.csv\")"
   ]
  },
  {
   "cell_type": "code",
   "execution_count": null,
   "metadata": {},
   "outputs": [],
   "source": [
    "data.dropna(axis=1,how='all',inplace=True)\n",
    "countries.dropna(axis=1,how='all',inplace=True)\n",
    "indicators.dropna(axis=1,how='all',inplace=True)\n",
    "infoindicators.dropna(axis=1,how='all',inplace=True)\n",
    "countryseries.dropna(axis=1,how='all',inplace=True)"
   ]
  },
  {
   "cell_type": "code",
   "execution_count": null,
   "metadata": {},
   "outputs": [],
   "source": [
    "print(data.shape)\n",
    "print(countries.shape)\n",
    "print(indicators.shape)\n",
    "print(infoindicators.shape)\n",
    "print(countryseries.shape)"
   ]
  },
  {
   "cell_type": "code",
   "execution_count": null,
   "metadata": {},
   "outputs": [],
   "source": [
    "data.head(2)"
   ]
  },
  {
   "cell_type": "code",
   "execution_count": null,
   "metadata": {},
   "outputs": [],
   "source": [
    "countryseries.dropna(axis=1,how='all',inplace=True) #J'élimine la colonne avec tous les NaN"
   ]
  },
  {
   "cell_type": "code",
   "execution_count": null,
   "metadata": {},
   "outputs": [],
   "source": [
    "countryseries.isnull().values.any()"
   ]
  },
  {
   "cell_type": "code",
   "execution_count": null,
   "metadata": {
    "scrolled": true
   },
   "outputs": [],
   "source": [
    "countryseries.drop_duplicates()"
   ]
  },
  {
   "cell_type": "markdown",
   "metadata": {},
   "source": [
    "Le tablea countryseries est propre. On a supprimé une colonne et il reste donc 3 colonne et 612 lignes. Ce tableau représente des codes (d'études) asosciés à des codes pays et les sources d'information."
   ]
  },
  {
   "cell_type": "code",
   "execution_count": null,
   "metadata": {},
   "outputs": [],
   "source": [
    "infoindicators.head(2)"
   ]
  },
  {
   "cell_type": "code",
   "execution_count": null,
   "metadata": {},
   "outputs": [],
   "source": [
    "infoindicators.dropna(axis=1,how='all',inplace=True)"
   ]
  },
  {
   "cell_type": "code",
   "execution_count": null,
   "metadata": {},
   "outputs": [],
   "source": [
    "infoindicators.isnull().values.any()"
   ]
  },
  {
   "cell_type": "code",
   "execution_count": null,
   "metadata": {},
   "outputs": [],
   "source": [
    "def changedate(date):\n",
    "    return int(date[2:])\n",
    "\n",
    "infoindicators['Year']=infoindicators['Year'].apply(changedate)\n",
    "infoindicators.shape"
   ]
  },
  {
   "cell_type": "markdown",
   "metadata": {},
   "source": [
    "Au final on a un tableau avec 643638 lignes et 4 colonnes.\n",
    "Ce tableau semble nous donner encore une liste d'études par code de pays et par année.\n",
    "On regarde si il n'y aurait pas de doublons:"
   ]
  },
  {
   "cell_type": "code",
   "execution_count": null,
   "metadata": {},
   "outputs": [],
   "source": [
    "infoindicators.drop_duplicates()\n",
    "infoindicators.shape"
   ]
  },
  {
   "cell_type": "code",
   "execution_count": null,
   "metadata": {},
   "outputs": [],
   "source": [
    "infoindicators.head(3)"
   ]
  },
  {
   "cell_type": "code",
   "execution_count": null,
   "metadata": {},
   "outputs": [],
   "source": [
    "countries.dropna(axis=1,how='all',inplace=True)\n",
    "countries.shape"
   ]
  },
  {
   "cell_type": "markdown",
   "metadata": {},
   "source": [
    "On a cette fois 241 lignes et 31 colonnes."
   ]
  },
  {
   "cell_type": "code",
   "execution_count": null,
   "metadata": {},
   "outputs": [],
   "source": [
    "countries.columns"
   ]
  },
  {
   "cell_type": "code",
   "execution_count": null,
   "metadata": {},
   "outputs": [],
   "source": [
    "#On peut déjà supprimer quelques colonnes qui ne nous servent pas:\n",
    "#Juste afin de pouvoir observer toutes les lignes\n",
    "\n",
    "L=['National accounts base year','National accounts reference year','System of National Accounts','Currency Unit','External debt Reporting status']\n",
    "for i in L:\n",
    "    del countries[i]"
   ]
  },
  {
   "cell_type": "code",
   "execution_count": null,
   "metadata": {},
   "outputs": [],
   "source": [
    "countries.head()"
   ]
  },
  {
   "cell_type": "code",
   "execution_count": null,
   "metadata": {},
   "outputs": [],
   "source": [
    "#On peut encore enlever des colonnes\n",
    "L=['WB-2 code', 'Government Accounting concept','IMF data dissemination standard', 'Vital registration complete','Latest agricultural census','Latest water withdrawal data']\n",
    "for i in L:\n",
    "    del countries[i]"
   ]
  },
  {
   "cell_type": "code",
   "execution_count": null,
   "metadata": {},
   "outputs": [],
   "source": [
    "countries.head()"
   ]
  },
  {
   "cell_type": "code",
   "execution_count": null,
   "metadata": {},
   "outputs": [],
   "source": [
    "L=['2-alpha code','SNA price valuation','Lending category','Other groups','Alternative conversion factor','PPP survey year','Balance of Payments Manual in use']\n",
    "for i in L:\n",
    "    del countries[i]"
   ]
  },
  {
   "cell_type": "code",
   "execution_count": null,
   "metadata": {},
   "outputs": [],
   "source": [
    "countries[4:6]"
   ]
  },
  {
   "cell_type": "code",
   "execution_count": null,
   "metadata": {},
   "outputs": [],
   "source": [
    "countries.shape"
   ]
  },
  {
   "cell_type": "code",
   "execution_count": null,
   "metadata": {},
   "outputs": [],
   "source": [
    "countries[countries.duplicated(['Country Code'])]"
   ]
  },
  {
   "cell_type": "markdown",
   "metadata": {},
   "source": [
    "Il ne semble pas y avoir de doublon\n"
   ]
  },
  {
   "cell_type": "code",
   "execution_count": null,
   "metadata": {},
   "outputs": [],
   "source": [
    "# On va créer un nouveau tableau avec juste les régions\n",
    "regions=countries[countries.Region.isnull()]\n",
    "countries.dropna(subset=['Region'],how='all',inplace=True)\n",
    "print(regions.shape,countries.shape)"
   ]
  },
  {
   "cell_type": "code",
   "execution_count": null,
   "metadata": {},
   "outputs": [],
   "source": [
    "indicators.shape"
   ]
  },
  {
   "cell_type": "code",
   "execution_count": null,
   "metadata": {},
   "outputs": [],
   "source": [
    "indicators.dropna(axis=1,how='all',inplace=True)\n"
   ]
  },
  {
   "cell_type": "code",
   "execution_count": null,
   "metadata": {},
   "outputs": [],
   "source": [
    "indicators[indicators.duplicated(['Series Code'])]"
   ]
  },
  {
   "cell_type": "code",
   "execution_count": null,
   "metadata": {},
   "outputs": [],
   "source": [
    "indicators.dropna(subset=['Series Code'],how='any',inplace=True)\n",
    "indicators.shape"
   ]
  },
  {
   "cell_type": "code",
   "execution_count": null,
   "metadata": {},
   "outputs": [],
   "source": [
    "indicators.head()"
   ]
  },
  {
   "cell_type": "markdown",
   "metadata": {},
   "source": [
    "Après nettoyage on a donc 3665 lignes et 15 colonnes.\n",
    "Cette table nous donne plus d'information sur les codes des études que l'on avait trouvé dans countryseries et indicatornotes"
   ]
  },
  {
   "cell_type": "code",
   "execution_count": null,
   "metadata": {},
   "outputs": [],
   "source": [
    "data.shape"
   ]
  },
  {
   "cell_type": "markdown",
   "metadata": {},
   "source": [
    "data a 886930 lignes et 70 colonnes"
   ]
  },
  {
   "cell_type": "code",
   "execution_count": null,
   "metadata": {},
   "outputs": [],
   "source": [
    "#On supprimes les colonnes avec que des nan:\n",
    "data.dropna(axis=1, how='all', inplace=True)\n",
    "data.shape"
   ]
  },
  {
   "cell_type": "code",
   "execution_count": null,
   "metadata": {},
   "outputs": [],
   "source": [
    "data.head()"
   ]
  },
  {
   "cell_type": "markdown",
   "metadata": {},
   "source": [
    "Ce tableau semble montrer les résultats des différentes études par pays et par code d'indicateur entre 1970 et 2100"
   ]
  },
  {
   "cell_type": "code",
   "execution_count": null,
   "metadata": {},
   "outputs": [],
   "source": [
    "#On vérifie les colonnes\n",
    "data.columns"
   ]
  },
  {
   "cell_type": "code",
   "execution_count": null,
   "metadata": {},
   "outputs": [],
   "source": [
    "#On supprime éventuellement les indicateurs qui n'apportent aucune information (NaN entre 1970 et 2100)\n",
    "a=list(data.columns)[4:]\n",
    "data.dropna(subset=a,how='all',inplace=True)\n",
    "data.shape"
   ]
  },
  {
   "cell_type": "code",
   "execution_count": null,
   "metadata": {},
   "outputs": [],
   "source": []
  },
  {
   "cell_type": "code",
   "execution_count": null,
   "metadata": {
    "scrolled": true
   },
   "outputs": [],
   "source": [
    "#On regarde si il n'y a pas des doublons:\n",
    "data[data.duplicated(['Country Code','Indicator Code'])]"
   ]
  },
  {
   "cell_type": "markdown",
   "metadata": {},
   "source": [
    "Il ne semble donc pas y avoir de doublons"
   ]
  },
  {
   "cell_type": "markdown",
   "metadata": {},
   "source": [
    "Pour les premiers indicateurs on va rechercher dans la table des indicateurs.\n",
    "On voit sur le site de la WB qu'il y a un indicateur pour le nombre d'ordinateur pour 100 habitants et l'acces à internet pour 100 habitants.\n",
    "On va essayer de croiser ces indicateurs avec les population de 15-24 qui sont la cible de l'entreprise (secondaire et université).\n"
   ]
  },
  {
   "cell_type": "code",
   "execution_count": null,
   "metadata": {},
   "outputs": [],
   "source": [
    "indicators.Topic.unique()"
   ]
  },
  {
   "cell_type": "code",
   "execution_count": null,
   "metadata": {
    "scrolled": true
   },
   "outputs": [],
   "source": [
    "indicators[indicators.Topic=='Infrastructure: Communications']"
   ]
  },
  {
   "cell_type": "markdown",
   "metadata": {},
   "source": [
    "On va donc commencer par les indicateurs: IT.CMP.PCMP.P2 et IT.NET.USER.P2\n",
    "Et on va chercher les populations de 15-24\n"
   ]
  },
  {
   "cell_type": "code",
   "execution_count": null,
   "metadata": {},
   "outputs": [],
   "source": [
    "a=[]\n",
    "for i in indicators['Indicator Name']:\n",
    "    if '15-24' in i.lower():\n",
    "        a.append(i)\n",
    "print(len(a),a)"
   ]
  },
  {
   "cell_type": "code",
   "execution_count": null,
   "metadata": {},
   "outputs": [],
   "source": [
    "indicators[indicators['Indicator Name']=='Population, ages 15-24, total']"
   ]
  },
  {
   "cell_type": "code",
   "execution_count": null,
   "metadata": {},
   "outputs": [],
   "source": [
    "indicpop=[]\n",
    "for a in indicators['Series Code']:\n",
    "    if 'SP.POP' in a and 'FE' not in a and 'MA' not in a:\n",
    "        indicpop.append(a)\n",
    "print(len(indicpop),indicpop)"
   ]
  },
  {
   "cell_type": "code",
   "execution_count": null,
   "metadata": {},
   "outputs": [],
   "source": []
  },
  {
   "cell_type": "markdown",
   "metadata": {},
   "source": [
    "Voyons si ces informations sont disponibles pour une grande partie des pays:"
   ]
  },
  {
   "cell_type": "code",
   "execution_count": null,
   "metadata": {
    "scrolled": true
   },
   "outputs": [],
   "source": [
    "data[data['Indicator Code']=='SP.POP.1524.TO.UN'].shape"
   ]
  },
  {
   "cell_type": "code",
   "execution_count": null,
   "metadata": {},
   "outputs": [],
   "source": [
    "data[data['Indicator Code']=='SP.POP.TOTL'].shape"
   ]
  },
  {
   "cell_type": "markdown",
   "metadata": {},
   "source": [
    "On va créer 2 sous tables une pour les ordinateurs et une pour internet avec les population de 15-24 et les populations totales qu'on va commencer à étudier afin de faire une première préselection sur le volume de clients potentiels dans le pays.\n",
    "On verra ensuite comment affiner avec d'autres indicateurs supplémentaires type:\n",
    "Niveaux de revenus dans le pays, niveau des enseignants, projections des chiffres sur les prochaines années...\n"
   ]
  },
  {
   "cell_type": "code",
   "execution_count": null,
   "metadata": {},
   "outputs": [],
   "source": [
    "internet=['SP.POP.1524.TO.UN','SP.POP.TOTL','IT.NET.USER.P2']\n",
    "population_internet=pd.DataFrame()\n",
    "\n",
    "for i in internet:\n",
    "    population_internet=pd.concat([population_internet,data[data['Indicator Code']==i]],ignore_index=True)"
   ]
  },
  {
   "cell_type": "code",
   "execution_count": null,
   "metadata": {},
   "outputs": [],
   "source": [
    "computer=['SP.POP.1524.TO.UN','SP.POP.TOTL','IT.CMP.PCMP.P2']\n",
    "population_computer=pd.DataFrame()\n",
    "\n",
    "for i in computer:\n",
    "    population_computer=pd.concat([population_computer,data[data['Indicator Code']==i]],ignore_index=True)"
   ]
  },
  {
   "cell_type": "code",
   "execution_count": null,
   "metadata": {},
   "outputs": [],
   "source": [
    "population_internet.columns"
   ]
  },
  {
   "cell_type": "markdown",
   "metadata": {},
   "source": [
    "Globalement dans le monde, la population des pays croit ou diminue vraiment très légérement, de même le nombre d'ordinateur par habitant et l'accés à internet est en croissance constante dans les pays.\n",
    "Pour tous ces indicateurs on va donc prendre les valeurs maximales dans les pays."
   ]
  },
  {
   "cell_type": "code",
   "execution_count": null,
   "metadata": {},
   "outputs": [],
   "source": [
    "population_internet['Max']=population_internet.max(axis=1,numeric_only=True)\n",
    "echantillon_internet=population_internet[['Country Name','Country Code','Indicator Name','Max']].copy()\n",
    "echantillon_internet.columns=['Country','Code','Indicator','Value']\n",
    "def modifinternet(x):\n",
    "    if '15-24' in x:\n",
    "        return '15-24'\n",
    "    elif 'Population, total' in x:\n",
    "        return 'total'\n",
    "    else:\n",
    "        return 'internet'\n",
    "echantillon_internet.Indicator=echantillon_internet.Indicator.apply(modifinternet)\n",
    "echantillon_internet.sort_values(by=['Code','Indicator'],inplace=True)"
   ]
  },
  {
   "cell_type": "code",
   "execution_count": null,
   "metadata": {},
   "outputs": [],
   "source": [
    "population_computer['Max']=population_computer.max(axis=1,numeric_only=True)\n",
    "echantillon_computer=population_computer[['Country Name','Country Code','Indicator Name','Max']].copy()\n",
    "echantillon_computer.columns=['Country','Code','Indicator','Value']\n",
    "\n",
    "\n",
    "def modifcomputer(x):\n",
    "    if '15-24' in x:\n",
    "        return '15-24'\n",
    "    elif 'Population, total' in x:\n",
    "        return 'total'\n",
    "    else:\n",
    "        return 'computer'\n",
    "echantillon_computer.Indicator=echantillon_computer.Indicator.apply(modifcomputer)\n",
    "echantillon_computer.sort_values(by=['Code','Indicator'],inplace=True)"
   ]
  },
  {
   "cell_type": "code",
   "execution_count": null,
   "metadata": {},
   "outputs": [],
   "source": [
    "echantillon_internet.head()"
   ]
  },
  {
   "cell_type": "code",
   "execution_count": null,
   "metadata": {},
   "outputs": [],
   "source": [
    "\n",
    "internet=pd.DataFrame(columns=['Country','Internet','Population','15-24'])\n",
    "\n",
    "for i in range(countries.shape[0]):\n",
    "    code=countries.iloc[i]['Country Code']\n",
    "    df=echantillon_internet[echantillon_internet.Code==code]\n",
    "    if df[df.Indicator=='internet'].empty or df[df.Indicator=='15-24'].empty and df[df.Indicator=='total'].empty:\n",
    "        continue\n",
    "    else:\n",
    "        D={'Country':df[df.Indicator=='internet'].iloc[0]['Country'],\\\n",
    "           'Internet':df[df.Indicator=='internet'].iloc[0]['Value']}\n",
    "        if not df[df.Indicator=='total'].empty:\n",
    "            D['Population']=df[df.Indicator=='total'].iloc[0]['Value']\n",
    "        if not df[df.Indicator=='15-24'].empty:\n",
    "            D['15-24']=df[df.Indicator=='15-24'].iloc[0]['Value']\n",
    "    for cle,valeur in D.items():\n",
    "        internet.loc[code,cle]=valeur\n",
    "\n",
    "computer=pd.DataFrame(columns=['Country','Computer','Population','15-24'])\n",
    "\n",
    "for i in range(countries.shape[0]):\n",
    "    code=countries.iloc[i]['Country Code']\n",
    "    df=echantillon_computer[echantillon_computer.Code==code]\n",
    "    if df[df.Indicator=='computer'].empty or df[df.Indicator=='15-24'].empty and df[df.Indicator=='total'].empty:\n",
    "        continue\n",
    "    else:\n",
    "        D={'Country':df[df.Indicator=='computer'].iloc[0]['Country'],'Computer':df[df.Indicator=='computer'].iloc[0]['Value']}\n",
    "        if not df[df.Indicator=='total'].empty:\n",
    "            D['Population']=df[df.Indicator=='total'].iloc[0]['Value']\n",
    "        if not df[df.Indicator=='15-24'].empty:\n",
    "            D['15-24']=df[df.Indicator=='15-24'].iloc[0]['Value']\n",
    "    for cle,valeur in D.items():\n",
    "        computer.loc[code,cle]=valeur"
   ]
  },
  {
   "cell_type": "code",
   "execution_count": null,
   "metadata": {},
   "outputs": [],
   "source": [
    "internet.head()"
   ]
  },
  {
   "cell_type": "code",
   "execution_count": null,
   "metadata": {
    "scrolled": true
   },
   "outputs": [],
   "source": [
    "computer.head()"
   ]
  },
  {
   "cell_type": "code",
   "execution_count": null,
   "metadata": {},
   "outputs": [],
   "source": [
    "internet.isnull().sum()"
   ]
  },
  {
   "cell_type": "code",
   "execution_count": null,
   "metadata": {
    "scrolled": true
   },
   "outputs": [],
   "source": [
    "computer.isnull().sum()"
   ]
  },
  {
   "cell_type": "code",
   "execution_count": null,
   "metadata": {},
   "outputs": [],
   "source": [
    "#je vais remplir les 15-24 vides en utilisant la moyenne de population de 15-24 sur les pays\n",
    "df=internet.dropna(how='all')\n",
    "a=df['15-24']/df['Population']\n",
    "moyenneint=a.mean()\n",
    "\n",
    "for (i,country) in internet.iterrows():\n",
    "    if pd.isnull(country['15-24']):\n",
    "        internet.loc[i,'15-24']=internet.loc[i,'Population']*moyenneint\n",
    "        \n",
    "df=computer.dropna(how='all')\n",
    "a=df['15-24']/df['Population']\n",
    "moyennecmp=a.mean()\n",
    "\n",
    "for (i,country) in computer.iterrows():\n",
    "    if pd.isnull(country['15-24']):\n",
    "        computer.loc[i,'15-24']=computer.loc[i,'Population']*moyennecmp\n"
   ]
  },
  {
   "cell_type": "code",
   "execution_count": null,
   "metadata": {},
   "outputs": [],
   "source": [
    "internet.head()\n",
    "    "
   ]
  },
  {
   "cell_type": "code",
   "execution_count": null,
   "metadata": {},
   "outputs": [],
   "source": [
    "computer.head()"
   ]
  },
  {
   "cell_type": "code",
   "execution_count": null,
   "metadata": {
    "scrolled": false
   },
   "outputs": [],
   "source": [
    "internet['TargetPop']=internet['Internet']*internet['15-24']/100\n",
    "print('min:',internet['TargetPop'].min(),'max:',internet['TargetPop'].max(),\\\n",
    "      'moyenne:',internet['TargetPop'].mean(),'sigma:',internet['TargetPop'].std(),'mediane:',internet['TargetPop'].median())\n"
   ]
  },
  {
   "cell_type": "code",
   "execution_count": null,
   "metadata": {},
   "outputs": [],
   "source": [
    "computer['TargetPop']=computer['Computer']*computer['15-24']/100\n",
    "print(computer['TargetPop'].min(),computer['TargetPop'].max(),computer['TargetPop'].mean())\n"
   ]
  },
  {
   "cell_type": "code",
   "execution_count": null,
   "metadata": {},
   "outputs": [],
   "source": [
    "computer.head()"
   ]
  },
  {
   "cell_type": "code",
   "execution_count": null,
   "metadata": {},
   "outputs": [],
   "source": [
    "techno=pd.merge(internet,computer,on=['Country'],how='outer',suffixes=['_internet','_computer'])\n",
    "techno=techno[['Country','TargetPop_internet','TargetPop_computer']]\n",
    "techno.fillna(0,inplace=True)\n",
    "techno.head()\n",
    "\n",
    "fig = plt.figure(figsize=(9,6))\n",
    "ax = plt.axes()\n",
    "x=techno['TargetPop_internet']\n",
    "y=techno['TargetPop_computer']\n",
    "plt.scatter(x, y, c = 'blue')\n",
    "\n",
    "plt.title(\"Accès ordinateur en fonction de accés internet\",size=20)\n",
    "\n",
    "\n",
    "# Titres des axes\n",
    "ax = ax.set(xlabel='Accès internet', ylabel='Accès ordinateur')\n"
   ]
  },
  {
   "cell_type": "code",
   "execution_count": null,
   "metadata": {},
   "outputs": [],
   "source": [
    "techno.head()"
   ]
  },
  {
   "cell_type": "code",
   "execution_count": null,
   "metadata": {},
   "outputs": [],
   "source": [
    "\n",
    "techno.columns=['Country','int','comp']\n",
    "groupes = ['int','comp'] # va recevoir les données agrégées à afficher\n",
    "\n",
    "fig = plt.figure(figsize=(5,7))\n",
    "\n",
    "a=plt.boxplot([techno[g] for g in groupes],\n",
    "            positions= [15,20], # abscisses des boxplots\n",
    "            showfliers= True, # on ne prend pas en compte les outliers\n",
    "            widths= 1, # largeur graphique des boxplots\n",
    ")\n",
    "plt.gca().xaxis.set_ticklabels(['internet', 'computer'],size=15)\n",
    "for element in a['medians']:\n",
    "    element.set_color('blue')\n",
    "for element in a['caps']:\n",
    "    element.set_color('red')\n",
    "\n",
    "plt.xlim(12,22)\n",
    "plt.ylim(0,4000000)\n",
    "\n",
    "plt.title('Diagrammes en boite',size=18)\n",
    "\n",
    "plt.show()\n",
    "\n"
   ]
  },
  {
   "cell_type": "code",
   "execution_count": null,
   "metadata": {},
   "outputs": [],
   "source": [
    "fig = plt.figure(figsize=(6,6))\n",
    "ax = plt.axes()\n",
    "\n",
    "plt.hist([internet['TargetPop']],range=(-1000000,139000000),bins=56)\n",
    "ax = ax.set(xlabel='Personnes', ylabel='Nombre de Pays')\n",
    "\n",
    "plt.title('Nombre de personnes avec accés à internet')\n",
    "plt.show()"
   ]
  },
  {
   "cell_type": "code",
   "execution_count": null,
   "metadata": {},
   "outputs": [],
   "source": [
    "# On va déja éliminer tous les pays avec moins de 1 500 000 de 15-24 avec un accés internet"
   ]
  },
  {
   "cell_type": "code",
   "execution_count": null,
   "metadata": {},
   "outputs": [],
   "source": [
    "fig = plt.figure(figsize=(6,6))\n",
    "ax = plt.axes()\n",
    "\n",
    "plt.hist([computer['TargetPop']],range=(-1000000,139000000),bins=56)\n",
    "ax = ax.set(xlabel='Personnes', ylabel='Nombre de Pays')\n",
    "\n",
    "plt.title('Nombre de personnes avec accés à un ordinateur')\n",
    "plt.show()"
   ]
  },
  {
   "cell_type": "code",
   "execution_count": null,
   "metadata": {},
   "outputs": [],
   "source": [
    "#On va également supprimer les pays avec moins de 1 000 000 15-24 ans avec un accés à un ordinateur"
   ]
  },
  {
   "cell_type": "code",
   "execution_count": null,
   "metadata": {},
   "outputs": [],
   "source": [
    "techno.head()"
   ]
  },
  {
   "cell_type": "code",
   "execution_count": null,
   "metadata": {},
   "outputs": [],
   "source": [
    "totinternet=techno.int.sum()"
   ]
  },
  {
   "cell_type": "code",
   "execution_count": null,
   "metadata": {},
   "outputs": [],
   "source": [
    "totcomp=techno.comp.sum()\n",
    "print(totinternet,totcomp)"
   ]
  },
  {
   "cell_type": "code",
   "execution_count": null,
   "metadata": {},
   "outputs": [],
   "source": [
    "payscibles=pd.merge(internet[internet.TargetPop>1500000],computer[computer.TargetPop > 1000000],on=['Country','Population'],how='outer',suffixes=['_internet','_computer'])\n",
    "payscibles.dropna(how='any',inplace=True)\n",
    "payscibles=pd.merge(payscibles,countries[['Country Code','Table Name']],left_on=['Country'],right_on=['Table Name'])\n",
    "payscibles=payscibles[['Country Code','Country','Population','TargetPop_internet','TargetPop_computer']]\n",
    "payscibles.head()"
   ]
  },
  {
   "cell_type": "code",
   "execution_count": null,
   "metadata": {},
   "outputs": [],
   "source": [
    "#On va vérifier qu'on a pas enlevé trop de \"population cible\":\n",
    "piepays=payscibles.copy()\n",
    "piepays.loc['Reste du Monde']=['XXX','Other countries','xxx',totinternet-payscibles['TargetPop_internet'].sum(),totcomp-payscibles['TargetPop_computer'].sum()]\n",
    "piepays"
   ]
  },
  {
   "cell_type": "code",
   "execution_count": null,
   "metadata": {},
   "outputs": [],
   "source": [
    "import matplotlib as mpl\n",
    "\n",
    "N=24\n",
    "fig=plt.figure(figsize = (20, 40))\n",
    "x = piepays['TargetPop_internet'].tolist()\n",
    "X=list(np.zeros(23))\n",
    "X.append(0.2)\n",
    "\n",
    "cmap=plt.cm.terrain\n",
    "cmaplist = [cmap(i) for i in range(256,1,-10)] \n",
    "\n",
    "fig.add_subplot(1,2,1)\n",
    "plt.pie(x, labels = piepays.Country.tolist(),colors=cmaplist, \\\n",
    "           explode = X,pctdistance = 0.7, labeldistance = 1.1)\n",
    "plt.title('15-24 with internet access',size=15)\n",
    "\n",
    "x = piepays['TargetPop_computer'].tolist()\n",
    "fig.add_subplot(1,2,2)\n",
    "plt.pie(x, labels = piepays.Country.tolist(),colors=cmaplist, \\\n",
    "           explode = X,pctdistance = 0.7, labeldistance = 1.1)\n",
    "plt.title('15-24 with computer access',size=15)\n",
    "\n",
    "\n",
    "plt.show()\n"
   ]
  },
  {
   "cell_type": "code",
   "execution_count": null,
   "metadata": {},
   "outputs": [],
   "source": [
    "plt.cm.terrain\n"
   ]
  },
  {
   "cell_type": "code",
   "execution_count": null,
   "metadata": {},
   "outputs": [],
   "source": [
    "X=np.zeros(23)"
   ]
  },
  {
   "cell_type": "code",
   "execution_count": null,
   "metadata": {},
   "outputs": [],
   "source": [
    "Y=X.tolist().append(0.2)"
   ]
  },
  {
   "cell_type": "code",
   "execution_count": null,
   "metadata": {},
   "outputs": [],
   "source": []
  },
  {
   "cell_type": "code",
   "execution_count": null,
   "metadata": {},
   "outputs": [],
   "source": [
    "codepays=list(payscibles['Country Code'].unique())"
   ]
  },
  {
   "cell_type": "code",
   "execution_count": null,
   "metadata": {},
   "outputs": [],
   "source": [
    "allcountries=data['Country Code'].unique()\n",
    "dataech=data.copy()\n",
    "for i in allcountries:\n",
    "    if i not in codepays:\n",
    "        dataech=dataech[dataech['Country Code']!=i]"
   ]
  },
  {
   "cell_type": "code",
   "execution_count": null,
   "metadata": {},
   "outputs": [],
   "source": [
    "#Pour affiner ma sélection de pays je vais essayer de trouver des indicateurs disponibles dans la pluspart des pays"
   ]
  },
  {
   "cell_type": "code",
   "execution_count": null,
   "metadata": {},
   "outputs": [],
   "source": [
    "somme=dataech.groupby('Indicator Code').count()\n",
    "somme.head()"
   ]
  },
  {
   "cell_type": "code",
   "execution_count": null,
   "metadata": {},
   "outputs": [],
   "source": [
    "#Je sélectionne les indicateurs disponibles dans au moins 80% des pays de mon échantillons soit au moins 9\n",
    "presel=somme[somme['Country Name']>=19]"
   ]
  },
  {
   "cell_type": "code",
   "execution_count": null,
   "metadata": {},
   "outputs": [],
   "source": [
    "L=presel.index.values.tolist()"
   ]
  },
  {
   "cell_type": "code",
   "execution_count": null,
   "metadata": {},
   "outputs": [],
   "source": [
    "indicatorsech=indicators[indicators['Series Code'].isin(L)]"
   ]
  },
  {
   "cell_type": "code",
   "execution_count": null,
   "metadata": {},
   "outputs": [],
   "source": [
    "indicatorsech.shape"
   ]
  },
  {
   "cell_type": "code",
   "execution_count": null,
   "metadata": {},
   "outputs": [],
   "source": [
    "indicatorsech.Topic.unique()"
   ]
  },
  {
   "cell_type": "code",
   "execution_count": null,
   "metadata": {},
   "outputs": [],
   "source": [
    "selection=['Attainment','Learning Outcomes','Teachers','Background','Secondary', 'Tertiary', 'Expenditures']"
   ]
  },
  {
   "cell_type": "code",
   "execution_count": null,
   "metadata": {},
   "outputs": [],
   "source": [
    "indicatorsech2=indicatorsech[indicatorsech.Topic.isin(selection)]"
   ]
  },
  {
   "cell_type": "code",
   "execution_count": null,
   "metadata": {},
   "outputs": [],
   "source": [
    "indicatorsech2.shape"
   ]
  },
  {
   "cell_type": "code",
   "execution_count": null,
   "metadata": {},
   "outputs": [],
   "source": [
    "#On va regarder ces indicateurs un peu plus en détail\n",
    "indicatorsech[indicatorsech.Topic=='Expenditures']['Indicator Name'].unique()\n",
    "#ici on va garder:\n",
    "#'Expenditure on secondary as % of total government expenditure (%)' et \n",
    "#'Expenditure on tertiary as % of total government expenditure (%)'\n",
    "indicatorsech[indicatorsech.Topic=='Tertiary']['Indicator Name'].unique()\n",
    "#On garde\n",
    "#'Total inbound internationally mobile students, both sexes (number)'\n",
    "#'Enrolment in tertiary education per 100,000 inhabitants, both sexes'\n",
    "indicatorsech[indicatorsech.Topic=='Secondary']['Indicator Name'].unique()\n",
    "#La on va filtrer un peu plus pour y voir plus clair\n",
    "indicatorsech[indicatorsech.Topic=='Background']['Indicator Name'].unique()\n",
    "#On vire\n",
    "indicatorsech[indicatorsech.Topic=='Teachers']['Indicator Name'].unique()\n",
    "#On garde:\n",
    "#'Pupil-teacher ratio in tertiary education (headcount basis)',\n",
    "#'Pupil-teacher ratio in secondary education (headcount basis)',\n",
    "indicatorsech[indicatorsech.Topic=='Learning Outcomes']['Indicator Name'].unique()\n",
    "#Trop spécifique on vire\n",
    "indicatorsech[indicatorsech.Topic=='Attainment']['Indicator Name'].unique()\n",
    "#La aussi on va filtrer un peu plus"
   ]
  },
  {
   "cell_type": "code",
   "execution_count": null,
   "metadata": {},
   "outputs": [],
   "source": [
    "#Pour Attainment et Secondary on va commencer par enlever tous les indicateurs avec des termes male, female et primary\n",
    "echantillon=indicatorsech[indicatorsech.Topic.isin(['Attainment','Secondary'])]\n",
    "L=[]\n",
    "for i in indicators['Indicator Name'].unique().tolist():\n",
    "    if 'male and female' in i.lower() or ('female' not in i.lower() and 'male' not in i.lower() and 'primary' not in i.lower()):\n",
    "        L.append(i)\n",
    "echantillon=echantillon[echantillon['Indicator Name'].isin(L)]\n",
    "echantillon['Indicator Name'].unique()\n",
    "#On va donc garder\n",
    "#'Barro-Lee: Percentage of population age 15+ with secondary schooling. Total (Incomplete and Completed Secondary)',\n",
    "#'Barro-Lee: Percentage of population age 15+ with tertiary schooling. Total (Incomplete and Completed Tertiary)'\n",
    "#'Enrolment in secondary education, private institutions, both sexes (number)',\n",
    "#'Projection: Mean years of schooling. Age 20-39. Total',\n",
    "#'Projection: Population in thousands by highest level of educational attainment. Post Secondary. Total',"
   ]
  },
  {
   "cell_type": "markdown",
   "metadata": {},
   "source": [
    "On va donc conserver pour l'instant 11 indicateurs"
   ]
  },
  {
   "cell_type": "code",
   "execution_count": null,
   "metadata": {},
   "outputs": [],
   "source": [
    "specific_indicators=['Expenditure on secondary as % of total government expenditure (%)',\\\n",
    "                     'Expenditure on tertiary as % of total government expenditure (%)',\\\n",
    "                     'Total inbound internationally mobile students, both sexes (number)',\\\n",
    "                     'Enrolment in tertiary education per 100,000 inhabitants, both sexes',\\\n",
    "                     'Pupil-teacher ratio in tertiary education (headcount basis)',\\\n",
    "                     'Pupil-teacher ratio in secondary education (headcount basis)',\\\n",
    "                     'Barro-Lee: Percentage of population age 15+ with secondary schooling. Total (Incomplete and Completed Secondary)',\\\n",
    "                     'Barro-Lee: Percentage of population age 15+ with tertiary schooling. Total (Incomplete and Completed Tertiary)',\\\n",
    "                     'Enrolment in secondary education, private institutions, both sexes (number)',\\\n",
    "                     'Projection: Mean years of schooling. Age 20-39. Total',\\\n",
    "                     'Projection: Population in thousands by highest level of educational attainment. Post Secondary. Total']\n",
    "      "
   ]
  },
  {
   "cell_type": "code",
   "execution_count": null,
   "metadata": {},
   "outputs": [],
   "source": [
    "specific_codes=indicators[indicators['Indicator Name'].isin(specific_indicators)]['Series Code'].unique().tolist()"
   ]
  },
  {
   "cell_type": "code",
   "execution_count": null,
   "metadata": {},
   "outputs": [],
   "source": [
    "echantillon=dataech[dataech['Indicator Code'].isin(specific_codes)]\n",
    "echantillon.iloc[0]['Indicator Name']"
   ]
  },
  {
   "cell_type": "code",
   "execution_count": null,
   "metadata": {},
   "outputs": [],
   "source": [
    "newdata=payscibles.copy()\n",
    "fig = plt.figure(figsize=(28,14))\n",
    "i=0\n",
    "for code in specific_codes:\n",
    "    #je fais une copie de la sélection de mon indicateur\n",
    "    ech=echantillon[echantillon['Indicator Code']==code].copy()\n",
    "    #je nettoie cette copie en supprimant les colonne dont je n'ai pas besoin:\n",
    "    indicateur=ech.iloc[0]['Indicator Name']\n",
    "    if len(indicateur)>60:\n",
    "        indicateur=indicateur[:60]\n",
    "    ech.dropna(axis=1,how='all',inplace=True)\n",
    "    del ech['Country Code']\n",
    "    del ech['Indicator Name']\n",
    "    del ech['Indicator Code']\n",
    "    #Je déplace la colonne country en fin de tableau pour faire un ffill\n",
    "    ech['Country']=ech['Country Name']\n",
    "    del ech['Country Name']\n",
    "    ech=ech.ffill(axis=1)\n",
    "    ech2=ech[[ech.columns.tolist()[-1],ech.columns.tolist()[-2]]]\n",
    "    ech2.columns=['Country',indicateur]\n",
    "    newdata=pd.merge(newdata,ech2,on='Country',how='outer')\n",
    "    #je trace l'indicateur\n",
    "    ech.index=ech['Country']\n",
    "    del ech['Country']\n",
    "    x=np.array(ech.columns,dtype=int)\n",
    "    fig.add_subplot(3,4,i+1)\n",
    "    style=['-','--','-.',':']\n",
    "    j=0\n",
    "    for (country,y) in ech.sort_index().iterrows():\n",
    "        plt.plot(x, np.array(y), label=country,linestyle=style[j%4])\n",
    "        j+=1\n",
    "    plt.title(indicateur)\n",
    "    i+=1\n",
    "\n",
    "    \n",
    "    \n",
    "    "
   ]
  },
  {
   "cell_type": "code",
   "execution_count": null,
   "metadata": {},
   "outputs": [],
   "source": [
    "indicateurs=newdata.columns.tolist()[5:]"
   ]
  },
  {
   "cell_type": "code",
   "execution_count": null,
   "metadata": {},
   "outputs": [],
   "source": [
    "newdata.columns=['Code','Country','Pop','Internet','Computer','sec%pop','ter%pop','proj_MYS','proj_popendsec_1000','ratio_sec','second_priv','inbound','ratio_ter','ter_per100k','exp_sec','exp_ter']"
   ]
  },
  {
   "cell_type": "code",
   "execution_count": null,
   "metadata": {},
   "outputs": [],
   "source": [
    "newdata.head()"
   ]
  },
  {
   "cell_type": "code",
   "execution_count": null,
   "metadata": {
    "scrolled": true
   },
   "outputs": [],
   "source": [
    "newdata.head()"
   ]
  },
  {
   "cell_type": "code",
   "execution_count": null,
   "metadata": {},
   "outputs": [],
   "source": [
    "L=newdata.columns.tolist()\n",
    "L"
   ]
  },
  {
   "cell_type": "code",
   "execution_count": null,
   "metadata": {},
   "outputs": [],
   "source": [
    "newdata=newdata[['Country','Population','TargetPop_internet','TargetPop_computer',\\\n",
    "                          'Barro-Lee: Percentage of population age 15+ with secondary s',\\\n",
    "                          'Barro-Lee: Percentage of population age 15+ with tertiary sc',\\\n",
    "                          'Wittgenstein Projection: Population in thousands by highest ',\\\n",
    "                          'Pupil-teacher ratio in secondary education (headcount basis)',\\\n",
    "                          'Enrolment in secondary education, private institutions, both',\\\n",
    "                          'Total inbound internationally mobile students, both sexes (n',\\\n",
    "                          'Pupil-teacher ratio in tertiary education (headcount basis)',\\\n",
    "                          'Enrolment in tertiary education per 100,000 inhabitants, bot']]\n",
    "newdata.columns=['Country','Pop','Int','Comp','%pop_sec','%pop_ter','proj_postsec_1000','ratio_sec','private_sec','inbound','ratio_ter','ter_enrol_100000']"
   ]
  },
  {
   "cell_type": "code",
   "execution_count": null,
   "metadata": {},
   "outputs": [],
   "source": [
    "newdata.head()"
   ]
  },
  {
   "cell_type": "code",
   "execution_count": null,
   "metadata": {},
   "outputs": [],
   "source": [
    "newdata.isnull().sum()"
   ]
  },
  {
   "cell_type": "code",
   "execution_count": null,
   "metadata": {},
   "outputs": [],
   "source": [
    "#un seul nan pour l'australie sur le ratio prof eleves dans le seocndaire: on le remplie avec une valeur de l'ordre de UK,US,Canada:16\n",
    "newdata.fillna(16,inplace=True)\n",
    "newdata.head(1)"
   ]
  },
  {
   "cell_type": "code",
   "execution_count": null,
   "metadata": {},
   "outputs": [],
   "source": [
    "#on va transformer les %pop en pop car ce sont les nombres de clients qui nous intéressent.\n",
    "#de meme avec les proj de fin de secondaire pour 1000 habitants et les enrollment dans le supérieur pour 100 000\n",
    "#Pour avoir un nombre d'étudiants total on va rajouter dans ce dernier les inbound students\n",
    "newdata['secondarylevelpop']=newdata['Pop']*newdata['%pop_sec']/100\n",
    "newdata['superieurlevelpop']=newdata['Pop']*newdata['%pop_ter']/100\n",
    "newdata['secondarylevelproj']=newdata['Pop']*newdata['proj_postsec_1000']/1000\n",
    "newdata['students']=newdata['Pop']*newdata['ter_enrol_100000']/100000+newdata['inbound']\n",
    "newdata=newdata[['Country','Int','Comp','ratio_sec','ratio_ter','private_sec','secondarylevelpop',\\\n",
    "                 'superieurlevelpop','secondarylevelproj','students']]\n"
   ]
  },
  {
   "cell_type": "code",
   "execution_count": null,
   "metadata": {},
   "outputs": [],
   "source": [
    "newdata=newdata[['Country','Int','Comp','ratio_sec','ratio_ter','private_sec','secondarylevelpop','superieurlevelpop','secondarylevelproj','students']]"
   ]
  },
  {
   "cell_type": "code",
   "execution_count": null,
   "metadata": {},
   "outputs": [],
   "source": [
    "newdata.head()"
   ]
  },
  {
   "cell_type": "code",
   "execution_count": null,
   "metadata": {},
   "outputs": [],
   "source": [
    "#En dessous des tests que j'avais fait pour tracer les graphiques des divers indicateurs que j'ai ensuite fait avec une boucle plus haut."
   ]
  },
  {
   "cell_type": "code",
   "execution_count": null,
   "metadata": {},
   "outputs": [],
   "source": [
    "score=newdata.copy()\n",
    "score['techno']=score['Int']+score['Comp']\n",
    "score['now']=score['secondarylevelpop']+score['superieurlevelpop']+\\\n",
    "             score['students']*score['ratio_ter']+score['private_sec']*score['ratio_sec']\n",
    "score['future']=score['secondarylevelproj']*(score['ratio_ter']+score['ratio_sec'])\n",
    "scorefinal=score[['Country','techno','now','future']].copy()\n",
    "\n",
    "q_tech=[scorefinal.techno.quantile(0.25*i) for i in range(1,4)]\n",
    "q_act=[scorefinal.now.quantile(0.25*i) for i in range(1,4)]\n",
    "q_futur=[scorefinal.future.quantile(0.25*i) for i in range(1,4)]\n",
    "\n",
    "def quartile(x,L):\n",
    "    if x<L[0]:\n",
    "        return 0\n",
    "    elif x<L[1]:\n",
    "        return 1\n",
    "    elif x<L[2]:\n",
    "        return 2\n",
    "    else:\n",
    "        return 3\n",
    "    \n",
    "scorefinal.techno=[quartile(t,q_tech) for t in scorefinal.techno]\n",
    "scorefinal.now=[quartile(t,q_act) for t in scorefinal.now]\n",
    "scorefinal.future=[quartile(t,q_futur) for t in scorefinal.future]\n",
    "\n",
    "scorefinal['Total']=scorefinal.techno+scorefinal.now+scorefinal.future\n",
    "scorefinal.sort_values(by='Total',ascending=False,inplace=True)\n",
    "scorefinal=scorefinal.iloc[:8]"
   ]
  },
  {
   "cell_type": "code",
   "execution_count": null,
   "metadata": {},
   "outputs": [],
   "source": [
    "selection=scorefinal['Country'].tolist()"
   ]
  },
  {
   "cell_type": "code",
   "execution_count": null,
   "metadata": {},
   "outputs": [],
   "source": [
    "echantillonfinal=echantillon[echantillon['Country Name'].isin(selection)]"
   ]
  },
  {
   "cell_type": "code",
   "execution_count": null,
   "metadata": {},
   "outputs": [],
   "source": [
    "codes=['UIS.TE_100000.56','PRJ.POP.ALL.4.MF']\n",
    "fig = plt.figure(figsize=(14,8))\n",
    "k=1\n",
    "for i in codes:\n",
    "    ech=echantillonfinal[echantillonfinal['Indicator Code']==i].copy()\n",
    "    indicateur=ech.iloc[0]['Indicator Name']\n",
    "    ech.dropna(axis=1,how='all',inplace=True)\n",
    "    del ech['Country Code']\n",
    "    del ech['Indicator Name']\n",
    "    del ech['Indicator Code']\n",
    "    #Je déplace la colonne country en fin de tableau pour faire un ffill\n",
    "    ech['Country']=ech['Country Name']\n",
    "    del ech['Country Name']\n",
    "    ech=ech.ffill(axis=1)\n",
    "    ech2=ech[[ech.columns.tolist()[-1],ech.columns.tolist()[-2]]]\n",
    "    ech2.columns=['Country',indicateur]\n",
    "    newdata=pd.merge(newdata,ech2,on='Country',how='outer')\n",
    "    #je trace l'indicateur\n",
    "    ech.index=ech['Country']\n",
    "    del ech['Country']\n",
    "    x=np.array(ech.columns,dtype=int)\n",
    "    fig.add_subplot(2,1,k)\n",
    "    style=['-','--','-.',':']\n",
    "    couleur=['blue','red']\n",
    "    j=0\n",
    "    for (country,y) in ech.sort_index().iterrows():\n",
    "        plt.plot(x, np.array(y), label=country,linestyle=style[j%4],color=couleur[j//4])\n",
    "        j+=1\n",
    "    plt.legend(loc='upper left')\n",
    "    plt.title(indicateur)\n",
    "    \n",
    "    k+=1\n"
   ]
  },
  {
   "cell_type": "code",
   "execution_count": null,
   "metadata": {},
   "outputs": [],
   "source": [
    "fig = plt.figure(figsize=(21,14))\n",
    "ax = plt.axes()\n",
    "\n",
    "for (country,y) in tableauexpsec.iterrows():\n",
    "   plt.plot(x, np.array(y), label=country)\n",
    "\n",
    "\n",
    "# Les labels\n",
    "plt.title(\"Un exemple de graphe\")\n",
    "\n",
    "# La légende est générée à partir de l'argument label de la fonctio\n",
    "# plot. L'argument loc spécifie le placement de la légende\n",
    "plt.legend(loc='upper left');\n",
    "\n",
    "# Titres des axes\n",
    "ax = ax.set(xlabel='x', ylabel='% budget alloué au secondaire')\n"
   ]
  },
  {
   "cell_type": "code",
   "execution_count": null,
   "metadata": {},
   "outputs": [],
   "source": [
    "df=expendituressec[['2014','Country']]\n",
    "df.columns=['Dépenses_gvt_secondaire','Country']\n",
    "payscibles=pd.merge(payscibles,df,on='Country',how='outer')"
   ]
  },
  {
   "cell_type": "code",
   "execution_count": null,
   "metadata": {},
   "outputs": [],
   "source": [
    "payscibles"
   ]
  },
  {
   "cell_type": "code",
   "execution_count": null,
   "metadata": {},
   "outputs": [],
   "source": [
    "#Pas grand chose à en tirer... sauf éventuellement un classement en 3 groupes..."
   ]
  },
  {
   "cell_type": "code",
   "execution_count": null,
   "metadata": {},
   "outputs": [],
   "source": [
    "expenditurester=newdata[newdata['Indicator Code']=='UIS.XGOVEXP.IMF.56'].copy()\n",
    "expenditurester.dropna(axis=1,how='all',inplace=True)\n",
    "del expenditurester['Country Code']\n",
    "del expenditurester['Indicator Name']\n",
    "del expenditurester['Indicator Code']\n",
    "expenditurester"
   ]
  },
  {
   "cell_type": "code",
   "execution_count": null,
   "metadata": {},
   "outputs": [],
   "source": [
    "expenditurester.index=expenditurester['Country Name']\n",
    "tableaudepter=expenditurester.copy()\n",
    "tableaudepter['Country']=tableaudepter['Country Name']\n",
    "del tableaudepter['Country Name']\n",
    "tableaudepter=tableaudepter.ffill(axis=1)\n",
    "tabledepter=tableaudepter.copy()\n",
    "depenses_sup=tableaudepter[['Country','2014']]\n",
    "del tabledepter['Country']\n",
    "x=np.array(tabledepter.columns,dtype=int)\n",
    "fig = plt.figure(figsize=(21,14))\n",
    "ax = plt.axes()\n",
    "\n",
    "for (country,y) in tabledepter.iterrows():\n",
    "   plt.plot(x, np.array(y), label=country)\n",
    "\n",
    "\n",
    "# Les labels\n",
    "plt.title(\"Dépenses supérieur\")\n",
    "\n",
    "# La légende est générée à partir de l'argument label de la fonctio\n",
    "# plot. L'argument loc spécifie le placement de la légende\n",
    "plt.legend(loc='upper left');\n",
    "\n",
    "# Titres des axes\n",
    "ax = ax.set(xlabel='x', ylabel='% budget alloué au tertiaire')\n"
   ]
  },
  {
   "cell_type": "code",
   "execution_count": null,
   "metadata": {},
   "outputs": [],
   "source": [
    "depenses_sup.columns=['Country','Depenses_superieur']\n",
    "payscibles"
   ]
  },
  {
   "cell_type": "code",
   "execution_count": null,
   "metadata": {},
   "outputs": [],
   "source": [
    "payscibles=pd.merge(payscibles,depenses_sup,on='Country',how='outer')"
   ]
  },
  {
   "cell_type": "code",
   "execution_count": null,
   "metadata": {},
   "outputs": [],
   "source": [
    "#Regardons les % de la population ayant été secondaires ou dans le supérieur  \n",
    "peoplesec=newdata[newdata['Indicator Code']=='BAR.SEC.ICMP.15UP.ZS'].copy()\n",
    "peoplesec.dropna(axis=1,how='all',inplace=True)\n",
    "peoplesec.index=peoplesec['Country Name']\n",
    "pourcentage_sec=peoplesec[['Country Name','2010']]\n",
    "del peoplesec['Country Code']\n",
    "del peoplesec['Indicator Name']\n",
    "del peoplesec['Indicator Code']\n",
    "peoplesec.index=peoplesec['Country Name']\n",
    "pourecentage_sec=peoplesec[['Country Name','2010']]\n",
    "tablepopsec=peoplesec.copy()\n",
    "del tablepopsec['Country Name']\n",
    "x=np.array(tablepopsec.columns,dtype=int)\n",
    "fig = plt.figure(figsize=(21,14))\n",
    "ax = plt.axes()\n",
    "\n",
    "for (country,y) in tablepopsec.iterrows():\n",
    "   plt.plot(x, np.array(y), label=country)\n",
    "\n",
    "\n",
    "# Les labels\n",
    "plt.title(\"15+ dans le secondaire\")\n",
    "\n",
    "# La légende est générée à partir de l'argument label de la fonctio\n",
    "# plot. L'argument loc spécifie le placement de la légende\n",
    "plt.legend(loc='upper left');\n",
    "\n",
    "# Titres des axes\n",
    "ax = ax.set(xlabel='x', ylabel='% population dans le secondaire')"
   ]
  },
  {
   "cell_type": "code",
   "execution_count": null,
   "metadata": {},
   "outputs": [],
   "source": [
    "pourcentage_sec.columns=['Country','Acces_secondaires_%']\n",
    "payscibles=pd.merge(payscibles,pourcentage_sec,on='Country',how='outer')"
   ]
  },
  {
   "cell_type": "code",
   "execution_count": null,
   "metadata": {},
   "outputs": [],
   "source": []
  },
  {
   "cell_type": "code",
   "execution_count": null,
   "metadata": {},
   "outputs": [],
   "source": [
    "#Regardons les % de la population ayant été secondaires ou dans le supérieur  \n",
    "peopleter=newdata[newdata['Indicator Code']=='BAR.TER.ICMP.15UP.ZS'].copy()\n",
    "peopleter.dropna(axis=1,how='all',inplace=True)\n",
    "del peopleter['Country Code']\n",
    "del peopleter['Indicator Name']\n",
    "del peopleter['Indicator Code']\n",
    "peopleter.index=peopleter['Country Name']\n",
    "acces_ter=peopleter[['Country Name','2010']]\n",
    "tablepopter=peopleter.copy()\n",
    "del tablepopter['Country Name']\n",
    "x=np.array(tablepopter.columns,dtype=int)\n",
    "fig = plt.figure(figsize=(21,14))\n",
    "ax = plt.axes()\n",
    "\n",
    "for (country,y) in tablepopter.iterrows():\n",
    "   plt.plot(x, np.array(y), label=country)\n",
    "\n",
    "\n",
    "# Les labels\n",
    "plt.title(\"15+ dans le supérieur\")\n",
    "\n",
    "# La légende est générée à partir de l'argument label de la fonctio\n",
    "# plot. L'argument loc spécifie le placement de la légende\n",
    "plt.legend(loc='upper left');\n",
    "\n",
    "# Titres des axes\n",
    "ax = ax.set(xlabel='x', ylabel='% population accés au supérieur')"
   ]
  },
  {
   "cell_type": "code",
   "execution_count": null,
   "metadata": {},
   "outputs": [],
   "source": [
    "acces_ter.columns=['Country','Acces_superieur_%']\n",
    "payscibles=pd.merge(payscibles,acces_ter)\n",
    "payscibles"
   ]
  },
  {
   "cell_type": "raw",
   "metadata": {},
   "source": [
    "Pas très consistant... pour certains pays (Russie,USA???) plus de personnes dans le supérieur que dans le secondaire..."
   ]
  },
  {
   "cell_type": "code",
   "execution_count": null,
   "metadata": {},
   "outputs": [],
   "source": [
    "#Les projections\n",
    "#Années école 20-39\n",
    "#Regardons le nombre d'année moyen à l'école  \n",
    "school2039=newdata[newdata['Indicator Code']=='PRJ.MYS.2039.MF'].copy()\n",
    "school2039.dropna(axis=1,how='all',inplace=True)\n",
    "del school2039['Country Code']\n",
    "del school2039['Indicator Name']\n",
    "del school2039['Indicator Code']\n",
    "school2039.index=school2039['Country Name']\n",
    "table2039=school2039.copy()\n",
    "del table2039['Country Name']\n",
    "x=np.array(table2039.columns,dtype=int)\n",
    "fig = plt.figure(figsize=(21,14))\n",
    "ax = plt.axes()\n",
    "\n",
    "for (country,y) in table2039.iterrows():\n",
    "   plt.plot(x, np.array(y), label=country)\n",
    "\n",
    "\n",
    "# Les labels\n",
    "plt.title(\"Nb d'années moyen en formation\")\n",
    "\n",
    "# La légende est générée à partir de l'argument label de la fonctio\n",
    "# plot. L'argument loc spécifie le placement de la légende\n",
    "plt.legend(loc='upper left');\n",
    "\n",
    "# Titres des axes\n",
    "ax = ax.set(xlabel='x', ylabel='années')\n"
   ]
  },
  {
   "cell_type": "code",
   "execution_count": null,
   "metadata": {},
   "outputs": [],
   "source": [
    "#Pas très pertinent au final"
   ]
  },
  {
   "cell_type": "code",
   "execution_count": null,
   "metadata": {},
   "outputs": [],
   "source": [
    "#Pas sur que cela apporte grand chose, témoigne d'une potentiel croissant de personnes dans le secondaires et le supérieur quel que soient les pays."
   ]
  },
  {
   "cell_type": "code",
   "execution_count": null,
   "metadata": {},
   "outputs": [],
   "source": [
    "#Regardons les 15+ ayant atteint la fin du secondaire \n",
    "sec15=newdata[newdata['Indicator Code']=='PRJ.POP.ALL.4.MF'].copy()\n",
    "sec15.dropna(axis=1,how='all',inplace=True)\n",
    "del sec15['Country Code']\n",
    "del sec15['Indicator Name']\n",
    "del sec15['Indicator Code']\n",
    "sec15.index=sec15['Country Name']\n",
    "tablesec15=sec15.copy()\n",
    "people_endsec_2030=sec15[['Country Name','2030']]\n",
    "del tablesec15['Country Name']\n",
    "x=np.array(tablesec15.columns,dtype=int)\n",
    "fig = plt.figure(figsize=(21,14))\n",
    "ax = plt.axes()\n",
    "\n",
    "for (country,y) in tablesec15.iterrows():\n",
    "   plt.plot(x, np.array(y), label=country)\n",
    "\n",
    "\n",
    "# Les labels\n",
    "plt.title(\"15 ans et plus ayant au moins atteint la fin du secondaire\")\n",
    "\n",
    "# La légende est générée à partir de l'argument label de la fonctio\n",
    "# plot. L'argument loc spécifie le placement de la légende\n",
    "plt.legend(loc='upper left');\n",
    "\n",
    "# Titres des axes\n",
    "ax = ax.set(xlabel='x', ylabel='milliers')"
   ]
  },
  {
   "cell_type": "code",
   "execution_count": null,
   "metadata": {},
   "outputs": [],
   "source": [
    "people_endsec_2030.columns=['Country','People_Number_End_Seconday_2030']\n",
    "payscibles=pd.merge(payscibles,people_endsec_2030,on='Country',how='outer')"
   ]
  },
  {
   "cell_type": "code",
   "execution_count": null,
   "metadata": {},
   "outputs": [],
   "source": [
    "#La on a quand meme 5 pays qui se détachent nettement dans les 20-30 ans à venir\n",
    "# Inde, Chine, USA, Japon et Philippines"
   ]
  },
  {
   "cell_type": "code",
   "execution_count": null,
   "metadata": {},
   "outputs": [],
   "source": [
    "newdata.groupby(['Indicator Code','Indicator Name']).count()"
   ]
  },
  {
   "cell_type": "code",
   "execution_count": null,
   "metadata": {},
   "outputs": [],
   "source": [
    "#Voyons le nombre d'élèves dans le privé dans le secondaire: 'UIS.E.23.PR'\n",
    "prive=newdata[newdata['Indicator Code']=='UIS.E.23.PR'].copy()\n",
    "prive.dropna(axis=1,how='all',inplace=True)\n",
    "del prive['Country Code']\n",
    "del prive['Indicator Name']\n",
    "del prive['Indicator Code']\n",
    "prive.index=prive['Country Name']\n",
    "tableprive=prive.copy()\n",
    "tableprive['Country']=tableprive['Country Name']\n",
    "tableprive=tableprive.ffill(axis=1)\n",
    "student_private=tableprive[['Country','2014']]\n",
    "student_private.columns=['Country','Students_in_privateinstitutions_2014']\n",
    "student_private\n"
   ]
  },
  {
   "cell_type": "code",
   "execution_count": null,
   "metadata": {},
   "outputs": [],
   "source": [
    "payscibles=pd.merge(payscibles,student_private)"
   ]
  },
  {
   "cell_type": "code",
   "execution_count": null,
   "metadata": {},
   "outputs": [],
   "source": [
    "tableprive"
   ]
  },
  {
   "cell_type": "code",
   "execution_count": null,
   "metadata": {},
   "outputs": [],
   "source": [
    "#Rations profs élèves:\n",
    "#Secondaire:\n",
    "\n",
    "ptsec=newdata[newdata['Indicator Code']=='SE.SEC.ENRL.TC.ZS'].copy()\n",
    "ptsec.dropna(axis=1,how='all',inplace=True)\n",
    "del ptsec['Country Code']\n",
    "del ptsec['Indicator Name']\n",
    "del ptsec['Indicator Code']\n",
    "ptsec.index=ptsec['Country Name']\n",
    "\n",
    "tableptsec=ptsec.copy()\n",
    "tableptsec['Country']=tableptsec['Country Name']\n",
    "del tableptsec['Country Name']\n",
    "tableptsec=tableptsec.ffill(axis=1)\n",
    "ratiosec=tableptsec[['Country','2015']]\n",
    "ratiosec.columns=['Country','Eleves_par_prof_Secondaire_2015']\n",
    "del tableptsec['Country']\n",
    "\n",
    "x=np.array(tableptsec.columns,dtype=int)\n",
    "fig = plt.figure(figsize=(21,14))\n",
    "ax = plt.axes()\n",
    "\n",
    "for (country,y) in tableptsec.iterrows():\n",
    "   plt.plot(x, np.array(y), label=country)\n",
    "\n",
    "\n",
    "# Les labels\n",
    "plt.title(\"Ration prof élève secondaire\")\n",
    "\n",
    "# La légende est générée à partir de l'argument label de la fonctio\n",
    "# plot. L'argument loc spécifie le placement de la légende\n",
    "plt.legend(loc='upper left');\n",
    "\n",
    "# Titres des axes\n",
    "ax = ax.set(xlabel='x', ylabel='Nb élève par prof')\n",
    "\n"
   ]
  },
  {
   "cell_type": "code",
   "execution_count": null,
   "metadata": {},
   "outputs": [],
   "source": [
    "payscibles=pd.merge(payscibles,ratiosec,on='Country',how='outer')\n",
    "payscibles.shape"
   ]
  },
  {
   "cell_type": "code",
   "execution_count": null,
   "metadata": {},
   "outputs": [],
   "source": []
  },
  {
   "cell_type": "code",
   "execution_count": null,
   "metadata": {},
   "outputs": [],
   "source": []
  },
  {
   "cell_type": "code",
   "execution_count": null,
   "metadata": {},
   "outputs": [],
   "source": [
    "#Et dans le supérieur:\n",
    "ptter=newdata[newdata['Indicator Code']=='UIS.PTRHC.56'].copy()\n",
    "ptter.dropna(axis=1,how='all',inplace=True)\n",
    "del ptter['Country Code']\n",
    "del ptter['Indicator Name']\n",
    "del ptter['Indicator Code']\n",
    "ptter.index=ptter['Country Name']\n",
    "\n",
    "tableptter=ptter.copy()\n",
    "tableptter['Country']=tableptter['Country Name']\n",
    "del tableptter['Country Name']\n",
    "tableptter=tableptter.ffill(axis=1)\n",
    "ratioter=tableptter[['Country','2015']]\n",
    "ratioter.columns=['Country','Eleves_par_prof_Superieur_2015']\n",
    "del tableptter['Country']\n",
    "\n",
    "\n",
    "x=np.array(tableptter.columns,dtype=int)\n",
    "fig = plt.figure(figsize=(21,14))\n",
    "ax = plt.axes()\n",
    "\n",
    "for (country,y) in tableptter.iterrows():\n",
    "   plt.plot(x, np.array(y), label=country)\n",
    "\n",
    "\n",
    "# Les labels\n",
    "plt.title(\"Ratio prof élève supérieur\")\n",
    "\n",
    "# La légende est générée à partir de l'argument label de la fonctio\n",
    "# plot. L'argument loc spécifie le placement de la légende\n",
    "plt.legend(loc='upper left');\n",
    "\n",
    "# Titres des axes\n",
    "ax = ax.set(xlabel='x', ylabel='Nb élève par prof')\n"
   ]
  },
  {
   "cell_type": "code",
   "execution_count": null,
   "metadata": {},
   "outputs": [],
   "source": [
    "\n",
    "payscibles=pd.merge(payscibles,ratioter,on='Country',how='outer')"
   ]
  },
  {
   "cell_type": "code",
   "execution_count": null,
   "metadata": {},
   "outputs": [],
   "source": [
    "#nombre de personnes dans le supérieur pour 100 000\n",
    "#UIS.TE_100000.56\n",
    "ter=newdata[newdata['Indicator Code']=='UIS.TE_100000.56'].copy()\n",
    "ter.dropna(axis=1,how='all',inplace=True)\n",
    "del ter['Country Code']\n",
    "del ter['Indicator Name']\n",
    "del ter['Indicator Code']\n",
    "ter.index=ptter['Country Name']\n",
    "students=ter[['Country Name','2014']]\n",
    "students.columns=['Country','NbEtudiants_100000hab']\n",
    "\n",
    "\n",
    "tableter=ter.copy()\n",
    "tableter['Country']=tableter['Country Name']\n",
    "del tableter['Country Name']\n",
    "tableter=tableter.ffill(axis=1)\n",
    "\n",
    "students=tableter[['Country','2014']]\n",
    "students.columns=['Country','NbEtudiants_100000hab']\n",
    "\n",
    "payscibles=pd.merge(payscibles,students,on='Country',how='outer')"
   ]
  },
  {
   "cell_type": "code",
   "execution_count": null,
   "metadata": {},
   "outputs": [],
   "source": [
    "#Et on fini avec le nombre d'étudiants étranger dans le supérieur\n",
    "#UIS.TE_100000.56\n",
    "etr=newdata[newdata['Indicator Code']=='UIS.MS.56.T'].copy()\n",
    "etr.dropna(axis=1,how='all',inplace=True)\n",
    "del etr['Country Code']\n",
    "del etr['Indicator Name']\n",
    "del etr['Indicator Code']\n",
    "etr.index=etr['Country Name']\n",
    "\n",
    "tableetr=etr.copy()\n",
    "del tableetr['Country Name']\n",
    "tableetr.ffill(axis=1,inplace=True)\n",
    "\n",
    "\n",
    "tableetr=etr.copy()\n",
    "tableetr['Country']=tableetr['Country Name']\n",
    "del tableetr['Country Name']\n",
    "tableetr=tableetr.ffill(axis=1)\n",
    "\n",
    "studentsetr=tableetr[['Country','2014']]\n",
    "studentsetr.columns=['Country','NbEtudiants_etranger']\n",
    "\n",
    "payscibles=pd.merge(payscibles,studentsetr,on='Country',how='outer')\n",
    "\n",
    "\n"
   ]
  },
  {
   "cell_type": "code",
   "execution_count": null,
   "metadata": {},
   "outputs": [],
   "source": [
    "payscibles.columns=['Country Code', 'Country', 'TargetPop_internet', 'TargetPop_computer','Dépenses_gvt_secondaire', 'Depenses_superieur', 'Acces_secondaires_%','Acces_superieur_%', 'People_Number_End_Seconday_2030','Students_in_privateinstitutions_2014','Eleves_par_prof_Secondaire_2015', 'Eleves_par_prof_Superieur_2015','NbEtudiants_100000hab_2014','NbEtudiants_etranger_2014']"
   ]
  },
  {
   "cell_type": "code",
   "execution_count": null,
   "metadata": {},
   "outputs": [],
   "source": [
    "population=internet[['Country','Population']]\n",
    "payscibles=pd.merge(payscibles,population)"
   ]
  },
  {
   "cell_type": "code",
   "execution_count": null,
   "metadata": {},
   "outputs": [],
   "source": [
    "payscibles.to_csv('preselection.csv')"
   ]
  }
 ],
 "metadata": {
  "kernelspec": {
   "display_name": "Python 3",
   "language": "python",
   "name": "python3"
  },
  "language_info": {
   "codemirror_mode": {
    "name": "ipython",
    "version": 3
   },
   "file_extension": ".py",
   "mimetype": "text/x-python",
   "name": "python",
   "nbconvert_exporter": "python",
   "pygments_lexer": "ipython3",
   "version": "3.8.3"
  }
 },
 "nbformat": 4,
 "nbformat_minor": 4
}
